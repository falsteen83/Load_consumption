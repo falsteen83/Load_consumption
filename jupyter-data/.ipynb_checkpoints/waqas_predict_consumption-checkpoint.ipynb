{
 "cells": [
  {
   "cell_type": "markdown",
   "id": "86765a03-1a78-4f8c-a109-dad7194bd400",
   "metadata": {},
   "source": [
    "# load the combined data set"
   ]
  },
  {
   "cell_type": "code",
   "execution_count": 364,
   "id": "023bff9c-806f-4785-8899-c4be8cfe592f",
   "metadata": {},
   "outputs": [],
   "source": [
    "import pandas as pd\n",
    "import matplotlib.pyplot as plt\n",
    "import glob\n",
    "from scipy.spatial import cKDTree\n",
    "import numpy as np"
   ]
  },
  {
   "cell_type": "code",
   "execution_count": 366,
   "id": "7aec67c5-5712-4ace-ba66-fdd36a9cf2b4",
   "metadata": {},
   "outputs": [
    {
     "name": "stdout",
     "output_type": "stream",
     "text": [
      "         id                              name source        lon        lat  \\\n",
      "0        24  Queen Alia International Airport    JMD  36.019444  31.727222   \n",
      "1        24  Queen Alia International Airport    JMD  36.019444  31.727222   \n",
      "2        24  Queen Alia International Airport    JMD  36.019444  31.727222   \n",
      "3        24  Queen Alia International Airport    JMD  36.019444  31.727222   \n",
      "4        24  Queen Alia International Airport    JMD  36.019444  31.727222   \n",
      "...      ..                               ...    ...        ...        ...   \n",
      "8467900  29                       Ras Muneeef    JMD  35.811667  32.380278   \n",
      "8467901  29                       Ras Muneeef    JMD  35.811667  32.380278   \n",
      "8467902  29                       Ras Muneeef    JMD  35.811667  32.380278   \n",
      "8467903  29                       Ras Muneeef    JMD  35.811667  32.380278   \n",
      "8467904  29                       Ras Muneeef    JMD  35.811667  32.380278   \n",
      "\n",
      "            alt     id.1           date_time  horizontal_visibility_km  \\\n",
      "0         722.0  4381376 2021-05-25 00:00:00                       6.0   \n",
      "1         722.0  4381377 2021-05-25 03:00:00                       6.0   \n",
      "2         722.0  4381378 2021-05-25 06:00:00                       6.0   \n",
      "3         722.0  4385595 2021-06-11 09:00:00                       6.0   \n",
      "4         722.0  4381382 2021-05-25 18:00:00                       6.0   \n",
      "...         ...      ...                 ...                       ...   \n",
      "8467900  1150.0  3250342 2023-12-31 23:35:00                       NaN   \n",
      "8467901  1150.0  3250343 2023-12-31 23:40:00                       NaN   \n",
      "8467902  1150.0  3250344 2023-12-31 23:45:00                       NaN   \n",
      "8467903  1150.0  3250345 2023-12-31 23:50:00                       NaN   \n",
      "8467904  1150.0  3250346 2023-12-31 23:55:00                       NaN   \n",
      "\n",
      "         cloud_cover_oktas  wind_speed_knot  wind_direction_degree  \\\n",
      "0                      0.0              NaN                    NaN   \n",
      "1                      NaN              NaN                    NaN   \n",
      "2                      0.0              NaN                    NaN   \n",
      "3                      NaN              NaN                    NaN   \n",
      "4                      0.0              NaN                    NaN   \n",
      "...                    ...              ...                    ...   \n",
      "8467900                NaN            5.303                  164.1   \n",
      "8467901                NaN            5.027                  163.8   \n",
      "8467902                NaN            5.759                  160.6   \n",
      "8467903                NaN            6.118                  161.3   \n",
      "8467904                NaN            6.050                  160.0   \n",
      "\n",
      "         irradiance  relative_humidity_percent  air_temperature_c  \\\n",
      "0               NaN                        NaN                NaN   \n",
      "1               NaN                        NaN                NaN   \n",
      "2               NaN                        NaN                NaN   \n",
      "3               NaN                        NaN                NaN   \n",
      "4               NaN                        NaN                NaN   \n",
      "...             ...                        ...                ...   \n",
      "8467900         0.0                       90.7                8.0   \n",
      "8467901         0.0                       90.3                7.9   \n",
      "8467902         0.0                       90.2                8.0   \n",
      "8467903         0.0                       89.7                8.0   \n",
      "8467904         0.0                       90.0                8.0   \n",
      "\n",
      "         rainfall_mm  weather_source_id  pressure_mbar  air_density_c  \\\n",
      "0                NaN                 24            NaN            NaN   \n",
      "1                NaN                 24            NaN            NaN   \n",
      "2                NaN                 24            NaN            NaN   \n",
      "3                NaN                 24            NaN            NaN   \n",
      "4                NaN                 24            NaN            NaN   \n",
      "...              ...                ...            ...            ...   \n",
      "8467900          0.0                 29            NaN            NaN   \n",
      "8467901          0.0                 29            NaN            NaN   \n",
      "8467902          0.0                 29            NaN            NaN   \n",
      "8467903          0.0                 29            NaN            NaN   \n",
      "8467904          0.0                 29            NaN            NaN   \n",
      "\n",
      "         module_temp_c  \n",
      "0                  NaN  \n",
      "1                  NaN  \n",
      "2                  NaN  \n",
      "3                  NaN  \n",
      "4                  NaN  \n",
      "...                ...  \n",
      "8467900            NaN  \n",
      "8467901            NaN  \n",
      "8467902            NaN  \n",
      "8467903            NaN  \n",
      "8467904            NaN  \n",
      "\n",
      "[8467905 rows x 20 columns]\n"
     ]
    }
   ],
   "source": [
    "# Get all CSV file paths\n",
    "#weather_csv_files = glob.glob('./weather_data/*.csv')\n",
    "# Get all CSV file paths\n",
    "weather_csv_path=r\"/Users/computer/Downloads/Load/Load/data/weather_data/*.csv\"\n",
    "weather_csv_files = glob.glob(weather_csv_path)\n",
    "\n",
    "# Read and combine all files into one DataFrame\n",
    "weather_df = [pd.read_csv(file, parse_dates=['date_time']) for file in weather_csv_files]\n",
    "\n",
    "# Merge dataframes of all processed files\n",
    "weather_df = pd.concat(weather_df, ignore_index=True)\n",
    "\n",
    "# Display the combined DataFrame\n",
    "print(weather_df)"
   ]
  },
  {
   "cell_type": "code",
   "execution_count": 367,
   "id": "bd04d46d-2592-4e16-9d47-109be6b15845",
   "metadata": {},
   "outputs": [
    {
     "name": "stdout",
     "output_type": "stream",
     "text": [
      "         id                       name          x          y     id.1  \\\n",
      "0         3             Mwaqar (MWQAR)  36.127889  31.796571   171905   \n",
      "1         3             Mwaqar (MWQAR)  36.127889  31.796571   171906   \n",
      "2         3             Mwaqar (MWQAR)  36.127889  31.796571   171907   \n",
      "3         3             Mwaqar (MWQAR)  36.127889  31.796571   171908   \n",
      "4         3             Mwaqar (MWQAR)  36.127889  31.796571   171909   \n",
      "...      ..                        ...        ...        ...      ...   \n",
      "3810235  44  Tafila City (TAFILA_CITY)  35.640048  30.823988  3640892   \n",
      "3810236  44  Tafila City (TAFILA_CITY)  35.640048  30.823988  3640893   \n",
      "3810237  44  Tafila City (TAFILA_CITY)  35.640048  30.823988  3640894   \n",
      "3810238  44  Tafila City (TAFILA_CITY)  35.640048  30.823988  3640895   \n",
      "3810239  44  Tafila City (TAFILA_CITY)  35.640048  30.823988  3640896   \n",
      "\n",
      "                   date_time      power  weather_source_id  location_id  \n",
      "0        2022-01-16 16:15:00   0.002792                NaN            3  \n",
      "1        2022-01-16 16:30:00   0.002792                NaN            3  \n",
      "2        2022-01-16 16:45:00   0.002792                NaN            3  \n",
      "3        2022-01-16 17:00:00   0.002792                NaN            3  \n",
      "4        2022-01-16 17:15:00   0.002792                NaN            3  \n",
      "...                      ...        ...                ...          ...  \n",
      "3810235  2024-06-03 23:00:00  16.526047                NaN           44  \n",
      "3810236  2024-06-03 23:15:00  16.526047                NaN           44  \n",
      "3810237  2024-06-03 23:30:00  15.557803                NaN           44  \n",
      "3810238  2024-06-03 23:45:00  15.508034                NaN           44  \n",
      "3810239  2024-06-04 00:00:00  15.406828                NaN           44  \n",
      "\n",
      "[3810240 rows x 9 columns]\n"
     ]
    }
   ],
   "source": [
    "import glob\n",
    "import pandas as pd\n",
    "\n",
    "# Get all CSV file paths\n",
    "consumption_csv_path = r\"/Users/computer/Downloads/Load/Load/data//consumption_data/*.csv\"\n",
    "\n",
    "# Use glob to find all CSV files\n",
    "consumption_csv_files = glob.glob(consumption_csv_path)\n",
    "\n",
    "# Read and concatenate all CSV files\n",
    "df_list = [pd.read_csv(file) for file in consumption_csv_files]\n",
    "consumption_df = pd.concat(df_list, ignore_index=True)\n",
    "\n",
    "# Display the combined DataFrame\n",
    "print(consumption_df)\n",
    "\n"
   ]
  },
  {
   "cell_type": "code",
   "execution_count": 368,
   "id": "93413aa8-229a-417e-8de9-ca19e5869e99",
   "metadata": {},
   "outputs": [
    {
     "name": "stdout",
     "output_type": "stream",
     "text": [
      "Index(['id', 'name', 'source', 'lon', 'lat', 'alt', 'id.1', 'date_time',\n",
      "       'horizontal_visibility_km', 'cloud_cover_oktas', 'wind_speed_knot',\n",
      "       'wind_direction_degree', 'irradiance', 'relative_humidity_percent',\n",
      "       'air_temperature_c', 'rainfall_mm', 'weather_source_id',\n",
      "       'pressure_mbar', 'air_density_c', 'module_temp_c'],\n",
      "      dtype='object')\n",
      "Index(['id', 'name', 'x', 'y', 'id.1', 'date_time', 'power',\n",
      "       'weather_source_id', 'location_id'],\n",
      "      dtype='object')\n"
     ]
    }
   ],
   "source": [
    "# For weather_df\n",
    "print(weather_df.columns)\n",
    "\n",
    "# For consumption_df\n",
    "print(consumption_df.columns)\n"
   ]
  },
  {
   "cell_type": "markdown",
   "id": "1011f10a-6cdf-4c8f-ae7f-b829cc3b4a58",
   "metadata": {},
   "source": [
    "# Find  The Nearest Wather Station"
   ]
  },
  {
   "cell_type": "markdown",
   "id": "b42761ba-2252-419e-8d3d-f4fbe9342005",
   "metadata": {},
   "source": [
    "## Preprocess the Data"
   ]
  },
  {
   "cell_type": "code",
   "execution_count": 371,
   "id": "7565e2b9-15ad-41ba-8e03-10beb7020078",
   "metadata": {},
   "outputs": [],
   "source": [
    "import pandas as pd\n",
    "\n",
    "# Preprocess weather_df\n",
    "weather_df = weather_df[['name', 'lat', 'lon', 'date_time']]  # Select relevant columns\n",
    "weather_df['lat'] = weather_df['lat'].astype(float)  # Ensure latitude is float\n",
    "weather_df['lon'] = weather_df['lon'].astype(float)  # Ensure longitude is float\n",
    "\n",
    "# Preprocess consumption_df\n",
    "consumption_df = consumption_df[['name', 'x', 'y', 'date_time']]  # Select relevant columns\n",
    "consumption_df['x'] = consumption_df['x'].astype(float)  # Ensure 'x' (latitude) is float\n",
    "consumption_df['y'] = consumption_df['y'].astype(float)  # Ensure 'y' (longitude) is float\n",
    "\n",
    "# Remove rows with missing coordinates\n",
    "weather_df = weather_df.dropna(subset=['lat', 'lon'])\n",
    "consumption_df = consumption_df.dropna(subset=['x', 'y'])\n",
    "\n",
    "# Ensure that the date_time is in datetime format\n",
    "weather_df['date_time'] = pd.to_datetime(weather_df['date_time'])\n",
    "consumption_df['date_time'] = pd.to_datetime(consumption_df['date_time'])\n"
   ]
  },
  {
   "cell_type": "code",
   "execution_count": 372,
   "id": "4928aadf-8b4f-4f21-8251-ed01ca4bc164",
   "metadata": {},
   "outputs": [
    {
     "data": {
      "image/png": "[encoded data removed]",
      "text/plain": [
       "<Figure size 1000x800 with 1 Axes>"
      ]
     },
     "metadata": {},
     "output_type": "display_data"
    }
   ],
   "source": [
    "import geopandas as gpd\n",
    "import matplotlib.pyplot as plt\n",
    "\n",
    "# Extract unique coordinates\n",
    "unique_coords = weather_df[['lon', 'lat']].drop_duplicates().reset_index(drop=True)\n",
    "\n",
    "# Convert to GeoDataFrame\n",
    "gdf = gpd.GeoDataFrame(unique_coords, geometry=gpd.points_from_xy(unique_coords.lon, unique_coords.lat))\n",
    "\n",
    "# Load the world map (make sure to put the correct file path in quotes)\n",
    "world = gpd.read_file('/Users/computer/Downloads/earth_data/ne_110m_admin_0_countries.shp')\n",
    "\n",
    "# Filter out Jordan from the world map data\n",
    "jordan = world[world['NAME'] == 'Jordan']\n",
    "\n",
    "# Create the plot\n",
    "fig, ax = plt.subplots(figsize=(10, 8))\n",
    "jordan.plot(ax=ax, color='lightblue')  # Plot only Jordan\n",
    "gdf.plot(ax=ax, color='red', markersize=10)  # Plot unique weather stations in red\n",
    "\n",
    "# Set title and show the plot\n",
    "ax.set_title('Unique Weather Station Locations in Jordan')\n",
    "plt.show()\n"
   ]
  },
  {
   "cell_type": "markdown",
   "id": "ed8f7ff0-2ae3-4a84-87b5-26b5932f940f",
   "metadata": {},
   "source": [
    "## Calculate Distance Using Haversine Formula"
   ]
  },
  {
   "cell_type": "code",
   "execution_count": null,
   "id": "89243ccb-e2b9-4ebe-ac57-cba6d1fedaf2",
   "metadata": {},
   "outputs": [],
   "source": []
  },
  {
   "cell_type": "code",
   "execution_count": 375,
   "id": "6e44579c-538e-42c8-8e1a-c4144707a7ad",
   "metadata": {},
   "outputs": [
    {
     "name": "stdout",
     "output_type": "stream",
     "text": [
      "               name   lat    lon           date_time\n",
      "1160397  Aqaba Port  35.0  29.52 2021-02-02 16:05:00\n",
      "1160398  Aqaba Port  35.0  29.52 2021-01-01 00:00:00\n",
      "1160399  Aqaba Port  35.0  29.52 2021-01-01 00:05:00\n",
      "1160400  Aqaba Port  35.0  29.52 2021-01-01 00:10:00\n",
      "1160401  Aqaba Port  35.0  29.52 2021-01-01 00:15:00\n"
     ]
    }
   ],
   "source": [
    "# Filter the DataFrame to view rows that match the station name for Aqaba Port\n",
    "aqaba_data = weather_df[weather_df['name'] == 'Aqaba Port']\n",
    "\n",
    "# Display some rows of the filtered data\n",
    "print(aqaba_data.head())  # Change to .tail() to see the last rows"
   ]
  },
  {
   "cell_type": "code",
   "execution_count": 376,
   "id": "fdafe5d8-33d5-4ce8-86fb-30c74410faab",
   "metadata": {},
   "outputs": [
    {
     "name": "stdout",
     "output_type": "stream",
     "text": [
      "Found 'Aqaba Port' in file: weather_source_31.csv\n"
     ]
    }
   ],
   "source": [
    "import os\n",
    "import pandas as pd\n",
    "\n",
    "# Path to the folder where CSV files are stored\n",
    "folder_path = '/Users/computer/Downloads/Load/Load/data/weather_data'  # Adjust the path accordingly\n",
    "\n",
    "# Loop through each CSV file in the folder\n",
    "for file_name in os.listdir(folder_path):\n",
    "    if file_name.endswith('.csv'):\n",
    "        file_path = os.path.join(folder_path, file_name)\n",
    "        \n",
    "        # Load the current CSV file\n",
    "        df = pd.read_csv(file_path)\n",
    "        \n",
    "        # Check if the Aqaba Port data is in this file\n",
    "        if 'Aqaba Port' in df['name'].values:\n",
    "            print(f\"Found 'Aqaba Port' in file: {file_name}\")\n",
    "            break\n"
   ]
  },
  {
   "cell_type": "code",
   "execution_count": null,
   "id": "c998da76-33ed-4964-9499-a2aeacd3f5ee",
   "metadata": {},
   "outputs": [],
   "source": []
  },
  {
   "cell_type": "code",
   "execution_count": 378,
   "id": "29cfde64-cd4a-487b-a341-f4effd2c5ab3",
   "metadata": {},
   "outputs": [
    {
     "name": "stdout",
     "output_type": "stream",
     "text": [
      "Found 'Aqaba Port' in file: weather_source_31.csv\n"
     ]
    }
   ],
   "source": [
    "import os\n",
    "import pandas as pd\n",
    "\n",
    "# Path to the folder where CSV files are stored\n",
    "folder_path = '/Users/computer/Downloads/Load/Load/data/weather_data'  # Adjust the path accordingly\n",
    "\n",
    "# Loop through each CSV file in the folder\n",
    "for file_name in os.listdir(folder_path):\n",
    "    if file_name.endswith('.csv'):\n",
    "        file_path = os.path.join(folder_path, file_name)\n",
    "        \n",
    "        # Load the current CSV file\n",
    "        df = pd.read_csv(file_path)\n",
    "        \n",
    "        # Check if the Aqaba Port data is in this file\n",
    "        if 'Aqaba Port' in df['name'].values:\n",
    "            print(f\"Found 'Aqaba Port' in file: {file_name}\")\n",
    "            break\n"
   ]
  },
  {
   "cell_type": "code",
   "execution_count": 379,
   "id": "30e26e3a-0dbb-4417-bc38-04ffa5e90108",
   "metadata": {
    "scrolled": true
   },
   "outputs": [
    {
     "name": "stdout",
     "output_type": "stream",
     "text": [
      "Columns in weather_source_24.csv: ['id', 'name', 'source', 'lon', 'lat', 'alt', 'id.1', 'date_time', 'horizontal_visibility_km', 'cloud_cover_oktas', 'wind_speed_knot', 'wind_direction_degree', 'irradiance', 'relative_humidity_percent', 'air_temperature_c', 'rainfall_mm', 'weather_source_id', 'pressure_mbar', 'air_density_c', 'module_temp_c']\n",
      "Columns in weather_source_30.csv: ['id', 'name', 'source', 'lon', 'lat', 'alt', 'id.1', 'date_time', 'horizontal_visibility_km', 'cloud_cover_oktas', 'wind_speed_knot', 'wind_direction_degree', 'irradiance', 'relative_humidity_percent', 'air_temperature_c', 'rainfall_mm', 'weather_source_id', 'pressure_mbar', 'air_density_c', 'module_temp_c']\n",
      "Columns in weather_source_18.csv: ['id', 'name', 'source', 'lon', 'lat', 'alt', 'id.1', 'date_time', 'horizontal_visibility_km', 'cloud_cover_oktas', 'wind_speed_knot', 'wind_direction_degree', 'irradiance', 'relative_humidity_percent', 'air_temperature_c', 'rainfall_mm', 'weather_source_id', 'pressure_mbar', 'air_density_c', 'module_temp_c']\n",
      "Columns in weather_source_1.csv: ['id', 'name', 'source', 'lon', 'lat', 'alt', 'id.1', 'date_time', 'horizontal_visibility_km', 'cloud_cover_oktas', 'wind_speed_knot', 'wind_direction_degree', 'irradiance', 'relative_humidity_percent', 'air_temperature_c', 'rainfall_mm', 'weather_source_id', 'pressure_mbar', 'air_density_c', 'module_temp_c']\n",
      "Columns in weather_source_19.csv: ['id', 'name', 'source', 'lon', 'lat', 'alt', 'id.1', 'date_time', 'horizontal_visibility_km', 'cloud_cover_oktas', 'wind_speed_knot', 'wind_direction_degree', 'irradiance', 'relative_humidity_percent', 'air_temperature_c', 'rainfall_mm', 'weather_source_id', 'pressure_mbar', 'air_density_c', 'module_temp_c']\n",
      "Columns in weather_source_31.csv: ['id', 'name', 'source', 'lon', 'lat', 'alt', 'id.1', 'date_time', 'horizontal_visibility_km', 'cloud_cover_oktas', 'wind_speed_knot', 'wind_direction_degree', 'irradiance', 'relative_humidity_percent', 'air_temperature_c', 'rainfall_mm', 'weather_source_id', 'pressure_mbar', 'air_density_c', 'module_temp_c']\n",
      "Columns in weather_source_25.csv: ['id', 'name', 'source', 'lon', 'lat', 'alt', 'id.1', 'date_time', 'horizontal_visibility_km', 'cloud_cover_oktas', 'wind_speed_knot', 'wind_direction_degree', 'irradiance', 'relative_humidity_percent', 'air_temperature_c', 'rainfall_mm', 'weather_source_id', 'pressure_mbar', 'air_density_c', 'module_temp_c']\n",
      "Columns in weather_source_27.csv: ['id', 'name', 'source', 'lon', 'lat', 'alt', 'id.1', 'date_time', 'horizontal_visibility_km', 'cloud_cover_oktas', 'wind_speed_knot', 'wind_direction_degree', 'irradiance', 'relative_humidity_percent', 'air_temperature_c', 'rainfall_mm', 'weather_source_id', 'pressure_mbar', 'air_density_c', 'module_temp_c']\n",
      "Columns in weather_source_3.csv: ['id', 'name', 'source', 'lon', 'lat', 'alt', 'id.1', 'date_time', 'horizontal_visibility_km', 'cloud_cover_oktas', 'wind_speed_knot', 'wind_direction_degree', 'irradiance', 'relative_humidity_percent', 'air_temperature_c', 'rainfall_mm', 'weather_source_id', 'pressure_mbar', 'air_density_c', 'module_temp_c']\n",
      "Columns in weather_source_2.csv: ['id', 'name', 'source', 'lon', 'lat', 'alt', 'id.1', 'date_time', 'horizontal_visibility_km', 'cloud_cover_oktas', 'wind_speed_knot', 'wind_direction_degree', 'irradiance', 'relative_humidity_percent', 'air_temperature_c', 'rainfall_mm', 'weather_source_id', 'pressure_mbar', 'air_density_c', 'module_temp_c']\n",
      "Columns in weather_source_26.csv: ['id', 'name', 'source', 'lon', 'lat', 'alt', 'id.1', 'date_time', 'horizontal_visibility_km', 'cloud_cover_oktas', 'wind_speed_knot', 'wind_direction_degree', 'irradiance', 'relative_humidity_percent', 'air_temperature_c', 'rainfall_mm', 'weather_source_id', 'pressure_mbar', 'air_density_c', 'module_temp_c']\n",
      "Columns in weather_source_32.csv: ['id', 'name', 'source', 'lon', 'lat', 'alt', 'id.1', 'date_time', 'horizontal_visibility_km', 'cloud_cover_oktas', 'wind_speed_knot', 'wind_direction_degree', 'irradiance', 'relative_humidity_percent', 'air_temperature_c', 'rainfall_mm', 'weather_source_id', 'pressure_mbar', 'air_density_c', 'module_temp_c']\n",
      "Columns in weather_source_22.csv: ['id', 'name', 'source', 'lon', 'lat', 'alt', 'id.1', 'date_time', 'horizontal_visibility_km', 'cloud_cover_oktas', 'wind_speed_knot', 'wind_direction_degree', 'irradiance', 'relative_humidity_percent', 'air_temperature_c', 'rainfall_mm', 'weather_source_id', 'pressure_mbar', 'air_density_c', 'module_temp_c']\n",
      "Columns in weather_source_6.csv: ['id', 'name', 'source', 'lon', 'lat', 'alt', 'id.1', 'date_time', 'horizontal_visibility_km', 'cloud_cover_oktas', 'wind_speed_knot', 'wind_direction_degree', 'irradiance', 'relative_humidity_percent', 'air_temperature_c', 'rainfall_mm', 'weather_source_id', 'pressure_mbar', 'air_density_c', 'module_temp_c']\n",
      "Columns in weather_source_7.csv: ['id', 'name', 'source', 'lon', 'lat', 'alt', 'id.1', 'date_time', 'horizontal_visibility_km', 'cloud_cover_oktas', 'wind_speed_knot', 'wind_direction_degree', 'irradiance', 'relative_humidity_percent', 'air_temperature_c', 'rainfall_mm', 'weather_source_id', 'pressure_mbar', 'air_density_c', 'module_temp_c']\n",
      "Columns in weather_source_23.csv: ['id', 'name', 'source', 'lon', 'lat', 'alt', 'id.1', 'date_time', 'horizontal_visibility_km', 'cloud_cover_oktas', 'wind_speed_knot', 'wind_direction_degree', 'irradiance', 'relative_humidity_percent', 'air_temperature_c', 'rainfall_mm', 'weather_source_id', 'pressure_mbar', 'air_density_c', 'module_temp_c']\n",
      "Columns in weather_source_21.csv: ['id', 'name', 'source', 'lon', 'lat', 'alt', 'id.1', 'date_time', 'horizontal_visibility_km', 'cloud_cover_oktas', 'wind_speed_knot', 'wind_direction_degree', 'irradiance', 'relative_humidity_percent', 'air_temperature_c', 'rainfall_mm', 'weather_source_id', 'pressure_mbar', 'air_density_c', 'module_temp_c']\n",
      "Columns in weather_source_5.csv: ['id', 'name', 'source', 'lon', 'lat', 'alt', 'id.1', 'date_time', 'horizontal_visibility_km', 'cloud_cover_oktas', 'wind_speed_knot', 'wind_direction_degree', 'irradiance', 'relative_humidity_percent', 'air_temperature_c', 'rainfall_mm', 'weather_source_id', 'pressure_mbar', 'air_density_c', 'module_temp_c']\n",
      "Columns in weather_source_4.csv: ['id', 'name', 'source', 'lon', 'lat', 'alt', 'id.1', 'date_time', 'horizontal_visibility_km', 'cloud_cover_oktas', 'wind_speed_knot', 'wind_direction_degree', 'irradiance', 'relative_humidity_percent', 'air_temperature_c', 'rainfall_mm', 'weather_source_id', 'pressure_mbar', 'air_density_c', 'module_temp_c']\n",
      "Columns in weather_source_20.csv: ['id', 'name', 'source', 'lon', 'lat', 'alt', 'id.1', 'date_time', 'horizontal_visibility_km', 'cloud_cover_oktas', 'wind_speed_knot', 'wind_direction_degree', 'irradiance', 'relative_humidity_percent', 'air_temperature_c', 'rainfall_mm', 'weather_source_id', 'pressure_mbar', 'air_density_c', 'module_temp_c']\n",
      "Columns in weather_source_11.csv: ['id', 'name', 'source', 'lon', 'lat', 'alt', 'id.1', 'date_time', 'horizontal_visibility_km', 'cloud_cover_oktas', 'wind_speed_knot', 'wind_direction_degree', 'irradiance', 'relative_humidity_percent', 'air_temperature_c', 'rainfall_mm', 'weather_source_id', 'pressure_mbar', 'air_density_c', 'module_temp_c']\n",
      "Columns in weather_source_9.csv: ['id', 'name', 'source', 'lon', 'lat', 'alt', 'id.1', 'date_time', 'horizontal_visibility_km', 'cloud_cover_oktas', 'wind_speed_knot', 'wind_direction_degree', 'irradiance', 'relative_humidity_percent', 'air_temperature_c', 'rainfall_mm', 'weather_source_id', 'pressure_mbar', 'air_density_c', 'module_temp_c']\n",
      "Columns in weather_source_8.csv: ['id', 'name', 'source', 'lon', 'lat', 'alt', 'id.1', 'date_time', 'horizontal_visibility_km', 'cloud_cover_oktas', 'wind_speed_knot', 'wind_direction_degree', 'irradiance', 'relative_humidity_percent', 'air_temperature_c', 'rainfall_mm', 'weather_source_id', 'pressure_mbar', 'air_density_c', 'module_temp_c']\n",
      "Columns in weather_source_12.csv: ['id', 'name', 'source', 'lon', 'lat', 'alt', 'id.1', 'date_time', 'horizontal_visibility_km', 'cloud_cover_oktas', 'wind_speed_knot', 'wind_direction_degree', 'irradiance', 'relative_humidity_percent', 'air_temperature_c', 'rainfall_mm', 'weather_source_id', 'pressure_mbar', 'air_density_c', 'module_temp_c']\n",
      "Columns in weather_source_13.csv: ['id', 'name', 'source', 'lon', 'lat', 'alt', 'id.1', 'date_time', 'horizontal_visibility_km', 'cloud_cover_oktas', 'wind_speed_knot', 'wind_direction_degree', 'irradiance', 'relative_humidity_percent', 'air_temperature_c', 'rainfall_mm', 'weather_source_id', 'pressure_mbar', 'air_density_c', 'module_temp_c']\n",
      "Columns in weather_source_17.csv: ['id', 'name', 'source', 'lon', 'lat', 'alt', 'id.1', 'date_time', 'horizontal_visibility_km', 'cloud_cover_oktas', 'wind_speed_knot', 'wind_direction_degree', 'irradiance', 'relative_humidity_percent', 'air_temperature_c', 'rainfall_mm', 'weather_source_id', 'pressure_mbar', 'air_density_c', 'module_temp_c']\n",
      "Columns in weather_source_16.csv: ['id', 'name', 'source', 'lon', 'lat', 'alt', 'id.1', 'date_time', 'horizontal_visibility_km', 'cloud_cover_oktas', 'wind_speed_knot', 'wind_direction_degree', 'irradiance', 'relative_humidity_percent', 'air_temperature_c', 'rainfall_mm', 'weather_source_id', 'pressure_mbar', 'air_density_c', 'module_temp_c']\n",
      "Columns in weather_source_28.csv: ['id', 'name', 'source', 'lon', 'lat', 'alt', 'id.1', 'date_time', 'horizontal_visibility_km', 'cloud_cover_oktas', 'wind_speed_knot', 'wind_direction_degree', 'irradiance', 'relative_humidity_percent', 'air_temperature_c', 'rainfall_mm', 'weather_source_id', 'pressure_mbar', 'air_density_c', 'module_temp_c']\n",
      "Columns in weather_source_14.csv: ['id', 'name', 'source', 'lon', 'lat', 'alt', 'id.1', 'date_time', 'horizontal_visibility_km', 'cloud_cover_oktas', 'wind_speed_knot', 'wind_direction_degree', 'irradiance', 'relative_humidity_percent', 'air_temperature_c', 'rainfall_mm', 'weather_source_id', 'pressure_mbar', 'air_density_c', 'module_temp_c']\n",
      "Columns in weather_source_15.csv: ['id', 'name', 'source', 'lon', 'lat', 'alt', 'id.1', 'date_time', 'horizontal_visibility_km', 'cloud_cover_oktas', 'wind_speed_knot', 'wind_direction_degree', 'irradiance', 'relative_humidity_percent', 'air_temperature_c', 'rainfall_mm', 'weather_source_id', 'pressure_mbar', 'air_density_c', 'module_temp_c']\n",
      "Columns in weather_source_29.csv: ['id', 'name', 'source', 'lon', 'lat', 'alt', 'id.1', 'date_time', 'horizontal_visibility_km', 'cloud_cover_oktas', 'wind_speed_knot', 'wind_direction_degree', 'irradiance', 'relative_humidity_percent', 'air_temperature_c', 'rainfall_mm', 'weather_source_id', 'pressure_mbar', 'air_density_c', 'module_temp_c']\n"
     ]
    }
   ],
   "source": [
    "import os\n",
    "import pandas as pd\n",
    "\n",
    "# Path to the folder where the CSV files are stored\n",
    "folder_path = '/Users/computer/Downloads/Load/Load/data/weather_data'  # Adjust path as needed\n",
    "\n",
    "# Loop through each CSV file in the folder\n",
    "for file_name in os.listdir(folder_path):\n",
    "    if file_name.endswith('.csv'):\n",
    "        file_path = os.path.join(folder_path, file_name)\n",
    "        \n",
    "        # Load the current CSV file\n",
    "        try:\n",
    "            df = pd.read_csv(file_path)\n",
    "            \n",
    "            # Print the column names of the CSV file\n",
    "            print(f\"Columns in {file_name}: {df.columns.tolist()}\")\n",
    "        \n",
    "        except Exception as e:\n",
    "            print(f\"Error reading {file_name}: {e}\")\n"
   ]
  },
  {
   "cell_type": "code",
   "execution_count": null,
   "id": "f242f122-236e-4e04-bae3-1a6c8206ac28",
   "metadata": {},
   "outputs": [],
   "source": []
  },
  {
   "cell_type": "code",
   "execution_count": 381,
   "id": "1ea54f8c-4beb-4f3a-94be-dedd8e4a63e7",
   "metadata": {
    "scrolled": true
   },
   "outputs": [
    {
     "name": "stdout",
     "output_type": "stream",
     "text": [
      "Columns in weather_source_24.csv: ['id', 'name', 'source', 'lon', 'lat', 'alt', 'id.1', 'date_time', 'horizontal_visibility_km', 'cloud_cover_oktas', 'wind_speed_knot', 'wind_direction_degree', 'irradiance', 'relative_humidity_percent', 'air_temperature_c', 'rainfall_mm', 'weather_source_id', 'pressure_mbar', 'air_density_c', 'module_temp_c']\n",
      "Columns in weather_source_30.csv: ['id', 'name', 'source', 'lon', 'lat', 'alt', 'id.1', 'date_time', 'horizontal_visibility_km', 'cloud_cover_oktas', 'wind_speed_knot', 'wind_direction_degree', 'irradiance', 'relative_humidity_percent', 'air_temperature_c', 'rainfall_mm', 'weather_source_id', 'pressure_mbar', 'air_density_c', 'module_temp_c']\n",
      "Columns in weather_source_18.csv: ['id', 'name', 'source', 'lon', 'lat', 'alt', 'id.1', 'date_time', 'horizontal_visibility_km', 'cloud_cover_oktas', 'wind_speed_knot', 'wind_direction_degree', 'irradiance', 'relative_humidity_percent', 'air_temperature_c', 'rainfall_mm', 'weather_source_id', 'pressure_mbar', 'air_density_c', 'module_temp_c']\n",
      "Columns in weather_source_1.csv: ['id', 'name', 'source', 'lon', 'lat', 'alt', 'id.1', 'date_time', 'horizontal_visibility_km', 'cloud_cover_oktas', 'wind_speed_knot', 'wind_direction_degree', 'irradiance', 'relative_humidity_percent', 'air_temperature_c', 'rainfall_mm', 'weather_source_id', 'pressure_mbar', 'air_density_c', 'module_temp_c']\n",
      "Columns in weather_source_19.csv: ['id', 'name', 'source', 'lon', 'lat', 'alt', 'id.1', 'date_time', 'horizontal_visibility_km', 'cloud_cover_oktas', 'wind_speed_knot', 'wind_direction_degree', 'irradiance', 'relative_humidity_percent', 'air_temperature_c', 'rainfall_mm', 'weather_source_id', 'pressure_mbar', 'air_density_c', 'module_temp_c']\n",
      "Columns in weather_source_31.csv: ['id', 'name', 'source', 'lon', 'lat', 'alt', 'id.1', 'date_time', 'horizontal_visibility_km', 'cloud_cover_oktas', 'wind_speed_knot', 'wind_direction_degree', 'irradiance', 'relative_humidity_percent', 'air_temperature_c', 'rainfall_mm', 'weather_source_id', 'pressure_mbar', 'air_density_c', 'module_temp_c']\n",
      "Columns in weather_source_25.csv: ['id', 'name', 'source', 'lon', 'lat', 'alt', 'id.1', 'date_time', 'horizontal_visibility_km', 'cloud_cover_oktas', 'wind_speed_knot', 'wind_direction_degree', 'irradiance', 'relative_humidity_percent', 'air_temperature_c', 'rainfall_mm', 'weather_source_id', 'pressure_mbar', 'air_density_c', 'module_temp_c']\n",
      "Columns in weather_source_27.csv: ['id', 'name', 'source', 'lon', 'lat', 'alt', 'id.1', 'date_time', 'horizontal_visibility_km', 'cloud_cover_oktas', 'wind_speed_knot', 'wind_direction_degree', 'irradiance', 'relative_humidity_percent', 'air_temperature_c', 'rainfall_mm', 'weather_source_id', 'pressure_mbar', 'air_density_c', 'module_temp_c']\n",
      "Columns in weather_source_3.csv: ['id', 'name', 'source', 'lon', 'lat', 'alt', 'id.1', 'date_time', 'horizontal_visibility_km', 'cloud_cover_oktas', 'wind_speed_knot', 'wind_direction_degree', 'irradiance', 'relative_humidity_percent', 'air_temperature_c', 'rainfall_mm', 'weather_source_id', 'pressure_mbar', 'air_density_c', 'module_temp_c']\n",
      "Columns in weather_source_2.csv: ['id', 'name', 'source', 'lon', 'lat', 'alt', 'id.1', 'date_time', 'horizontal_visibility_km', 'cloud_cover_oktas', 'wind_speed_knot', 'wind_direction_degree', 'irradiance', 'relative_humidity_percent', 'air_temperature_c', 'rainfall_mm', 'weather_source_id', 'pressure_mbar', 'air_density_c', 'module_temp_c']\n",
      "Columns in weather_source_26.csv: ['id', 'name', 'source', 'lon', 'lat', 'alt', 'id.1', 'date_time', 'horizontal_visibility_km', 'cloud_cover_oktas', 'wind_speed_knot', 'wind_direction_degree', 'irradiance', 'relative_humidity_percent', 'air_temperature_c', 'rainfall_mm', 'weather_source_id', 'pressure_mbar', 'air_density_c', 'module_temp_c']\n",
      "Columns in weather_source_32.csv: ['id', 'name', 'source', 'lon', 'lat', 'alt', 'id.1', 'date_time', 'horizontal_visibility_km', 'cloud_cover_oktas', 'wind_speed_knot', 'wind_direction_degree', 'irradiance', 'relative_humidity_percent', 'air_temperature_c', 'rainfall_mm', 'weather_source_id', 'pressure_mbar', 'air_density_c', 'module_temp_c']\n",
      "Columns in weather_source_22.csv: ['id', 'name', 'source', 'lon', 'lat', 'alt', 'id.1', 'date_time', 'horizontal_visibility_km', 'cloud_cover_oktas', 'wind_speed_knot', 'wind_direction_degree', 'irradiance', 'relative_humidity_percent', 'air_temperature_c', 'rainfall_mm', 'weather_source_id', 'pressure_mbar', 'air_density_c', 'module_temp_c']\n",
      "Columns in weather_source_6.csv: ['id', 'name', 'source', 'lon', 'lat', 'alt', 'id.1', 'date_time', 'horizontal_visibility_km', 'cloud_cover_oktas', 'wind_speed_knot', 'wind_direction_degree', 'irradiance', 'relative_humidity_percent', 'air_temperature_c', 'rainfall_mm', 'weather_source_id', 'pressure_mbar', 'air_density_c', 'module_temp_c']\n",
      "Columns in weather_source_7.csv: ['id', 'name', 'source', 'lon', 'lat', 'alt', 'id.1', 'date_time', 'horizontal_visibility_km', 'cloud_cover_oktas', 'wind_speed_knot', 'wind_direction_degree', 'irradiance', 'relative_humidity_percent', 'air_temperature_c', 'rainfall_mm', 'weather_source_id', 'pressure_mbar', 'air_density_c', 'module_temp_c']\n",
      "Columns in weather_source_23.csv: ['id', 'name', 'source', 'lon', 'lat', 'alt', 'id.1', 'date_time', 'horizontal_visibility_km', 'cloud_cover_oktas', 'wind_speed_knot', 'wind_direction_degree', 'irradiance', 'relative_humidity_percent', 'air_temperature_c', 'rainfall_mm', 'weather_source_id', 'pressure_mbar', 'air_density_c', 'module_temp_c']\n",
      "Columns in weather_source_21.csv: ['id', 'name', 'source', 'lon', 'lat', 'alt', 'id.1', 'date_time', 'horizontal_visibility_km', 'cloud_cover_oktas', 'wind_speed_knot', 'wind_direction_degree', 'irradiance', 'relative_humidity_percent', 'air_temperature_c', 'rainfall_mm', 'weather_source_id', 'pressure_mbar', 'air_density_c', 'module_temp_c']\n",
      "Columns in weather_source_5.csv: ['id', 'name', 'source', 'lon', 'lat', 'alt', 'id.1', 'date_time', 'horizontal_visibility_km', 'cloud_cover_oktas', 'wind_speed_knot', 'wind_direction_degree', 'irradiance', 'relative_humidity_percent', 'air_temperature_c', 'rainfall_mm', 'weather_source_id', 'pressure_mbar', 'air_density_c', 'module_temp_c']\n",
      "Columns in weather_source_4.csv: ['id', 'name', 'source', 'lon', 'lat', 'alt', 'id.1', 'date_time', 'horizontal_visibility_km', 'cloud_cover_oktas', 'wind_speed_knot', 'wind_direction_degree', 'irradiance', 'relative_humidity_percent', 'air_temperature_c', 'rainfall_mm', 'weather_source_id', 'pressure_mbar', 'air_density_c', 'module_temp_c']\n",
      "Columns in weather_source_20.csv: ['id', 'name', 'source', 'lon', 'lat', 'alt', 'id.1', 'date_time', 'horizontal_visibility_km', 'cloud_cover_oktas', 'wind_speed_knot', 'wind_direction_degree', 'irradiance', 'relative_humidity_percent', 'air_temperature_c', 'rainfall_mm', 'weather_source_id', 'pressure_mbar', 'air_density_c', 'module_temp_c']\n",
      "Columns in weather_source_11.csv: ['id', 'name', 'source', 'lon', 'lat', 'alt', 'id.1', 'date_time', 'horizontal_visibility_km', 'cloud_cover_oktas', 'wind_speed_knot', 'wind_direction_degree', 'irradiance', 'relative_humidity_percent', 'air_temperature_c', 'rainfall_mm', 'weather_source_id', 'pressure_mbar', 'air_density_c', 'module_temp_c']\n",
      "Columns in weather_source_9.csv: ['id', 'name', 'source', 'lon', 'lat', 'alt', 'id.1', 'date_time', 'horizontal_visibility_km', 'cloud_cover_oktas', 'wind_speed_knot', 'wind_direction_degree', 'irradiance', 'relative_humidity_percent', 'air_temperature_c', 'rainfall_mm', 'weather_source_id', 'pressure_mbar', 'air_density_c', 'module_temp_c']\n",
      "Columns in weather_source_8.csv: ['id', 'name', 'source', 'lon', 'lat', 'alt', 'id.1', 'date_time', 'horizontal_visibility_km', 'cloud_cover_oktas', 'wind_speed_knot', 'wind_direction_degree', 'irradiance', 'relative_humidity_percent', 'air_temperature_c', 'rainfall_mm', 'weather_source_id', 'pressure_mbar', 'air_density_c', 'module_temp_c']\n",
      "Columns in weather_source_12.csv: ['id', 'name', 'source', 'lon', 'lat', 'alt', 'id.1', 'date_time', 'horizontal_visibility_km', 'cloud_cover_oktas', 'wind_speed_knot', 'wind_direction_degree', 'irradiance', 'relative_humidity_percent', 'air_temperature_c', 'rainfall_mm', 'weather_source_id', 'pressure_mbar', 'air_density_c', 'module_temp_c']\n",
      "Columns in weather_source_13.csv: ['id', 'name', 'source', 'lon', 'lat', 'alt', 'id.1', 'date_time', 'horizontal_visibility_km', 'cloud_cover_oktas', 'wind_speed_knot', 'wind_direction_degree', 'irradiance', 'relative_humidity_percent', 'air_temperature_c', 'rainfall_mm', 'weather_source_id', 'pressure_mbar', 'air_density_c', 'module_temp_c']\n",
      "Columns in weather_source_17.csv: ['id', 'name', 'source', 'lon', 'lat', 'alt', 'id.1', 'date_time', 'horizontal_visibility_km', 'cloud_cover_oktas', 'wind_speed_knot', 'wind_direction_degree', 'irradiance', 'relative_humidity_percent', 'air_temperature_c', 'rainfall_mm', 'weather_source_id', 'pressure_mbar', 'air_density_c', 'module_temp_c']\n",
      "Columns in weather_source_16.csv: ['id', 'name', 'source', 'lon', 'lat', 'alt', 'id.1', 'date_time', 'horizontal_visibility_km', 'cloud_cover_oktas', 'wind_speed_knot', 'wind_direction_degree', 'irradiance', 'relative_humidity_percent', 'air_temperature_c', 'rainfall_mm', 'weather_source_id', 'pressure_mbar', 'air_density_c', 'module_temp_c']\n",
      "Columns in weather_source_28.csv: ['id', 'name', 'source', 'lon', 'lat', 'alt', 'id.1', 'date_time', 'horizontal_visibility_km', 'cloud_cover_oktas', 'wind_speed_knot', 'wind_direction_degree', 'irradiance', 'relative_humidity_percent', 'air_temperature_c', 'rainfall_mm', 'weather_source_id', 'pressure_mbar', 'air_density_c', 'module_temp_c']\n",
      "Columns in weather_source_14.csv: ['id', 'name', 'source', 'lon', 'lat', 'alt', 'id.1', 'date_time', 'horizontal_visibility_km', 'cloud_cover_oktas', 'wind_speed_knot', 'wind_direction_degree', 'irradiance', 'relative_humidity_percent', 'air_temperature_c', 'rainfall_mm', 'weather_source_id', 'pressure_mbar', 'air_density_c', 'module_temp_c']\n",
      "Columns in weather_source_15.csv: ['id', 'name', 'source', 'lon', 'lat', 'alt', 'id.1', 'date_time', 'horizontal_visibility_km', 'cloud_cover_oktas', 'wind_speed_knot', 'wind_direction_degree', 'irradiance', 'relative_humidity_percent', 'air_temperature_c', 'rainfall_mm', 'weather_source_id', 'pressure_mbar', 'air_density_c', 'module_temp_c']\n",
      "Columns in weather_source_29.csv: ['id', 'name', 'source', 'lon', 'lat', 'alt', 'id.1', 'date_time', 'horizontal_visibility_km', 'cloud_cover_oktas', 'wind_speed_knot', 'wind_direction_degree', 'irradiance', 'relative_humidity_percent', 'air_temperature_c', 'rainfall_mm', 'weather_source_id', 'pressure_mbar', 'air_density_c', 'module_temp_c']\n"
     ]
    }
   ],
   "source": [
    "import os\n",
    "import pandas as pd\n",
    "\n",
    "# Path to the folder where the CSV files are stored\n",
    "folder_path = '/Users/computer/Downloads/Load/Load/data/weather_data'  # Adjust path as needed\n",
    "\n",
    "# Loop through each CSV file in the folder\n",
    "for file_name in os.listdir(folder_path):\n",
    "    if file_name.endswith('.csv'):\n",
    "        file_path = os.path.join(folder_path, file_name)\n",
    "        \n",
    "        # Load the current CSV file\n",
    "        try:\n",
    "            df = pd.read_csv(file_path)\n",
    "            \n",
    "            # Print the column names of the CSV file\n",
    "            print(f\"Columns in {file_name}: {df.columns.tolist()}\")\n",
    "        \n",
    "        except Exception as e:\n",
    "            print(f\"Error reading {file_name}: {e}\")\n"
   ]
  },
  {
   "cell_type": "code",
   "execution_count": 382,
   "id": "fdac6c38-a015-4bb7-a800-8fb2341191ef",
   "metadata": {},
   "outputs": [
    {
     "name": "stdout",
     "output_type": "stream",
     "text": [
      "Unique column names across all CSV files:\n",
      "['air_density_c', 'air_temperature_c', 'alt', 'cloud_cover_oktas', 'date_time', 'horizontal_visibility_km', 'id', 'id.1', 'irradiance', 'lat', 'lon', 'module_temp_c', 'name', 'pressure_mbar', 'rainfall_mm', 'relative_humidity_percent', 'source', 'weather_source_id', 'wind_direction_degree', 'wind_speed_knot']\n"
     ]
    }
   ],
   "source": [
    "import os\n",
    "import pandas as pd\n",
    "\n",
    "# Path to the folder where the CSV files are stored\n",
    "folder_path = '/Users/computer/Downloads/Load/Load/data/weather_data'  # Adjust path as needed\n",
    "\n",
    "# Set to store unique column names across all CSVs\n",
    "unique_columns = set()\n",
    "\n",
    "# List to store the columns from each CSV\n",
    "columns_from_files = []\n",
    "\n",
    "# Loop through each CSV file in the folder\n",
    "for file_name in os.listdir(folder_path):\n",
    "    if file_name.endswith('.csv'):\n",
    "        file_path = os.path.join(folder_path, file_name)\n",
    "        \n",
    "        # Load the current CSV file\n",
    "        try:\n",
    "            df = pd.read_csv(file_path)\n",
    "            \n",
    "            # Add the columns of the current CSV to the set of unique columns\n",
    "            unique_columns.update(df.columns)\n",
    "            \n",
    "            # Store the columns for each file\n",
    "            columns_from_files.append(df.columns.tolist())\n",
    "        \n",
    "        except Exception as e:\n",
    "            print(f\"Error reading {file_name}: {e}\")\n",
    "\n",
    "# Convert the set of unique columns to a sorted list\n",
    "unique_columns = sorted(list(unique_columns))\n",
    "\n",
    "# Print the unique columns\n",
    "print(\"Unique column names across all CSV files:\")\n",
    "print(unique_columns)\n",
    "\n",
    "# Now check if all files contain the same columns\n",
    "missing_columns = {}\n",
    "\n",
    "for i, columns in enumerate(columns_from_files):\n",
    "    missing_columns[file_name] = list(set(unique_columns) - set(columns))\n",
    "    \n",
    "    if missing_columns[file_name]:\n",
    "        print(f\"{file_name} is missing columns: {missing_columns[file_name]}\")\n",
    "\n",
    "\n"
   ]
  },
  {
   "cell_type": "code",
   "execution_count": 384,
   "id": "a9f6cca2-4855-40e4-ab82-8a4fa01a9353",
   "metadata": {
    "scrolled": true
   },
   "outputs": [
    {
     "name": "stdout",
     "output_type": "stream",
     "text": [
      "weather_source_24.csv contains all the expected columns.\n",
      "weather_source_30.csv contains all the expected columns.\n",
      "weather_source_18.csv contains all the expected columns.\n",
      "weather_source_1.csv contains all the expected columns.\n",
      "weather_source_19.csv contains all the expected columns.\n",
      "weather_source_31.csv contains all the expected columns.\n",
      "weather_source_25.csv contains all the expected columns.\n",
      "weather_source_27.csv contains all the expected columns.\n",
      "weather_source_3.csv contains all the expected columns.\n",
      "weather_source_2.csv contains all the expected columns.\n",
      "weather_source_26.csv contains all the expected columns.\n",
      "weather_source_32.csv contains all the expected columns.\n",
      "weather_source_22.csv contains all the expected columns.\n",
      "weather_source_6.csv contains all the expected columns.\n",
      "weather_source_7.csv contains all the expected columns.\n",
      "weather_source_23.csv contains all the expected columns.\n",
      "weather_source_21.csv contains all the expected columns.\n",
      "weather_source_5.csv contains all the expected columns.\n",
      "weather_source_4.csv contains all the expected columns.\n",
      "weather_source_20.csv contains all the expected columns.\n",
      "weather_source_11.csv contains all the expected columns.\n",
      "weather_source_9.csv contains all the expected columns.\n",
      "weather_source_8.csv contains all the expected columns.\n",
      "weather_source_12.csv contains all the expected columns.\n",
      "weather_source_13.csv contains all the expected columns.\n",
      "weather_source_17.csv contains all the expected columns.\n",
      "weather_source_16.csv contains all the expected columns.\n",
      "weather_source_28.csv contains all the expected columns.\n",
      "weather_source_14.csv contains all the expected columns.\n",
      "weather_source_15.csv contains all the expected columns.\n",
      "weather_source_29.csv contains all the expected columns.\n"
     ]
    }
   ],
   "source": [
    "import os\n",
    "import pandas as pd\n",
    "\n",
    "# Path to the folder where the CSV files are stored\n",
    "folder_path = '/Users/computer/Downloads/Load/Load/data/weather_data'  # Adjust path as needed\n",
    "\n",
    "# List of expected column names\n",
    "expected_columns = ['air_density_c', 'air_temperature_c', 'alt', 'cloud_cover_oktas', 'date_time', \n",
    "                    'horizontal_visibility_km', 'id', 'id.1', 'irradiance', 'lat', 'lon', 'module_temp_c',\n",
    "                    'name', 'pressure_mbar', 'rainfall_mm', 'relative_humidity_percent', 'source', \n",
    "                    'weather_source_id', 'wind_direction_degree', 'wind_speed_knot']\n",
    "\n",
    "# Loop through each CSV file in the folder\n",
    "for file_name in os.listdir(folder_path):\n",
    "    if file_name.endswith('.csv'):\n",
    "        file_path = os.path.join(folder_path, file_name)\n",
    "        \n",
    "        # Load the current CSV file\n",
    "        try:\n",
    "            df = pd.read_csv(file_path)\n",
    "            \n",
    "            # Check if all expected columns are present\n",
    "            missing_columns = set(expected_columns) - set(df.columns)\n",
    "            \n",
    "            if missing_columns:\n",
    "                print(f\"{file_name} is missing the following columns: {missing_columns}\")\n",
    "            else:\n",
    "                print(f\"{file_name} contains all the expected columns.\")\n",
    "        \n",
    "        except Exception as e:\n",
    "            print(f\"Error reading {file_name}: {e}\")"
   ]
  },
  {
   "cell_type": "code",
   "execution_count": 385,
   "id": "0afea464-f824-45ac-8ef6-91cf2894eb2c",
   "metadata": {},
   "outputs": [],
   "source": [
    "# Correct the latitude and longitude for Aqaba Port\n",
    "weather_df.loc[weather_df['name'] == 'Aqaba Port', ['lat', 'lon']] = weather_df.loc[weather_df['name'] == 'Aqaba Port', ['lon', 'lat']].values"
   ]
  },
  {
   "cell_type": "code",
   "execution_count": 386,
   "id": "075c8624-b5f9-4527-b3c3-e9efc7096cb5",
   "metadata": {},
   "outputs": [
    {
     "data": {
      "image/png": "[encoded data removed]",
      "text/plain": [
       "<Figure size 1000x800 with 1 Axes>"
      ]
     },
     "metadata": {},
     "output_type": "display_data"
    }
   ],
   "source": [
    "import geopandas as gpd\n",
    "import matplotlib.pyplot as plt\n",
    "\n",
    "# Extract unique coordinates\n",
    "unique_coords = weather_df[['lon', 'lat']].drop_duplicates().reset_index(drop=True)\n",
    "\n",
    "# Convert to GeoDataFrame\n",
    "gdf = gpd.GeoDataFrame(unique_coords, geometry=gpd.points_from_xy(unique_coords.lon, unique_coords.lat))\n",
    "\n",
    "# Load the world map (make sure to put the correct file path in quotes)\n",
    "world = gpd.read_file('/Users/computer/Downloads/earth_data/ne_110m_admin_0_countries.shp')\n",
    "\n",
    "# Filter out Jordan from the world map data\n",
    "jordan = world[world['NAME'] == 'Jordan']\n",
    "\n",
    "# Create the plot\n",
    "fig, ax = plt.subplots(figsize=(10, 8))\n",
    "jordan.plot(ax=ax, color='lightblue')  # Plot only Jordan\n",
    "gdf.plot(ax=ax, color='red', markersize=10)  # Plot unique weather stations in red\n",
    "\n",
    "# Set title and show the plot\n",
    "ax.set_title('Unique Weather Station Locations in Jordan')\n",
    "plt.show()"
   ]
  },
  {
   "cell_type": "code",
   "execution_count": null,
   "id": "3e57b035-ade7-46b5-be70-dea300afdd17",
   "metadata": {},
   "outputs": [],
   "source": [
    "import numpy as np\n",
    "\n",
    "# Haversine function to calculate the distance between two points (lat, lon)\n",
    "def haversine(lat1, lon1, lat2, lon2):\n",
    "    # Radius of the Earth in kilometers\n",
    "    R = 6371.0\n",
    "    # Convert degrees to radians\n",
    "    lat1, lon1, lat2, lon2 = map(np.radians, [lat1, lon1, lat2, lon2])\n",
    "    dlat = lat2 - lat1\n",
    "    dlon = lon2 - lon1\n",
    "    a = np.sin(dlat / 2)**2 + np.cos(lat1) * np.cos(lat2) * np.sin(dlon / 2)**2\n",
    "    c = 2 * np.arctan2(np.sqrt(a), np.sqrt(1 - a))\n",
    "    distance = R * c  # Result in kilometers\n",
    "    return distance\n",
    "\n",
    "# Find the location of Waqas power station\n",
    "waqas_station = consumption_df[consumption_df['name'] == 'Waqas (WAQAS)'].iloc[0]  # Get the first row where name == 'waqas'\n",
    "waqas_lat = waqas_station['x']  # Latitude of Waqas\n",
    "waqas_lon = waqas_station['y']  # Longitude of Waqas\n",
    "\n",
    "# Calculate distances from Waqas to all weather stations\n",
    "weather_df['distance_to_waqas'] = weather_df.apply(lambda row: haversine(waqas_lat, waqas_lon, row['lat'], row['lon']), axis=1)\n",
    "\n",
    "# Find the closest weather station\n",
    "closest_weather_station = weather_df.loc[weather_df['distance_to_waqas'].idxmin()]\n",
    "\n",
    "print(\"The nearest weather station to Waqas is:\", closest_weather_station['name'])\n",
    "print(\"The distance is:\", closest_weather_station['distance_to_waqas'], \"km\")"
   ]
  },
  {
   "cell_type": "code",
   "execution_count": 325,
   "id": "caefa7f9-e182-41fe-968c-0b58de1dec08",
   "metadata": {},
   "outputs": [
    {
     "name": "stdout",
     "output_type": "stream",
     "text": [
      "The distance between Waqas and Baqura stations is: 9.32 km\n"
     ]
    }
   ],
   "source": [
    "from geopy.distance import geodesic\n",
    "\n",
    "# Waqas station coordinates\n",
    "waqas_coords = (32.550777, 35.660027)\n",
    "\n",
    "# Baqura station coordinates (from image)\n",
    "baqura_coords = (32.62388888888889, 35.611111111111114)\n",
    "\n",
    "# Calculate distance\n",
    "distance_km = geodesic(waqas_coords, baqura_coords).km\n",
    "print(f\"The distance between Waqas and Baqura stations is: {distance_km:.2f} km\")"
   ]
  },
  {
   "cell_type": "code",
   "execution_count": 327,
   "id": "755df8d4-ea40-454f-a31f-570af663f167",
   "metadata": {},
   "outputs": [],
   "source": [
    "## too ensure the calculation results"
   ]
  },
  {
   "cell_type": "code",
   "execution_count": null,
   "id": "502e544a-969f-4f04-bbfe-14df6455960d",
   "metadata": {},
   "outputs": [],
   "source": []
  },
  {
   "cell_type": "code",
   "execution_count": null,
   "id": "b0a76160-27e1-48b4-b24d-621d490d1242",
   "metadata": {},
   "outputs": [],
   "source": []
  },
  {
   "cell_type": "markdown",
   "id": "515c125b-1a60-422c-b3c5-317895e591f3",
   "metadata": {},
   "source": [
    "## Clustering Weather Stations into Zones"
   ]
  },
  {
   "cell_type": "code",
   "execution_count": null,
   "id": "df5aad6c-5acc-4721-93cc-c5807453049d",
   "metadata": {},
   "outputs": [],
   "source": []
  },
  {
   "cell_type": "code",
   "execution_count": null,
   "id": "a9892f7f-9ffa-4260-9cea-24b443f01675",
   "metadata": {},
   "outputs": [],
   "source": []
  },
  {
   "cell_type": "code",
   "execution_count": null,
   "id": "6b2fad1d-d074-469d-9044-7eba60da75f4",
   "metadata": {},
   "outputs": [],
   "source": [
    "# List of missing columns\n",
    "missing_columns = [,'date_time','air_density_c', 'air_temperature_c', 'alt', 'cloud_cover_oktas', \n",
    "                   'horizontal_visibility_km', 'id', 'irradiance', 'module_temp_c', \n",
    "                   'pressure_mbar', 'rainfall_mm', 'relative_humidity_percent', \n",
    "                   'source', 'weather_source_id', 'wind_direction_degree', 'wind_speed_knot']\n",
    "\n",
    "# Check available columns in the weather dataframe\n",
    "available_columns = weather_df.columns\n",
    "\n",
    "# Print available columns to help troubleshoot\n",
    "print(\"Available columns in weather_df:\")\n",
    "print(available_columns)\n",
    "\n",
    "# Check if any of the missing columns are present in the weather dataframe\n",
    "missing_columns_in_data = [col for col in missing_columns if col not in available_columns]\n",
    "\n",
    "# Print the missing columns that are not present in the weather dataframe\n",
    "print(\"\\nMissing columns (not present in weather_df):\")\n",
    "print(missing_columns_in_data)\n",
    "\n",
    "# Check for missing data in the available columns\n",
    "missing_data_summary = weather_df[available_columns].isnull().sum()\n",
    "\n",
    "# Print summary of missing data in the available columns\n",
    "print(\"\\nSummary of missing data in the available columns:\")\n",
    "print(missing_data_summary)"
   ]
  },
  {
   "cell_type": "code",
   "execution_count": 333,
   "id": "5257f089-78ba-4e1b-9726-a9507c7d28af",
   "metadata": {},
   "outputs": [
    {
     "name": "stdout",
     "output_type": "stream",
     "text": [
      "\n",
      "Waqas power station belongs to cluster: 8\n",
      "\n",
      "Weather stations in the same cluster as Waqas:\n",
      "['Wadi El-rayyan' 'Baqura']\n",
      "\n",
      "Total unique weather stations in cluster 8: 2\n"
     ]
    },
    {
     "data": {
      "image/png": "[encoded data removed]",
      "text/plain": [
       "<Figure size 1000x600 with 2 Axes>"
      ]
     },
     "metadata": {},
     "output_type": "display_data"
    }
   ],
   "source": [
    "import numpy as np\n",
    "import pandas as pd\n",
    "import glob\n",
    "from sklearn.cluster import KMeans\n",
    "import matplotlib.pyplot as plt\n",
    "\n",
    "# === Step 1: Read and Combine Weather Data ===\n",
    "\n",
    "# Define path to all CSV files\n",
    "weather_csv_path = r\"/Users/computer/Downloads/Load/Load/data/weather_data/*.csv\"\n",
    "weather_csv_files = glob.glob(weather_csv_path)\n",
    "\n",
    "# Read all CSV files and parse 'date_time' column\n",
    "weather_dfs = [pd.read_csv(file, parse_dates=['date_time']) for file in weather_csv_files]\n",
    "\n",
    "# Combine all dataframes into one\n",
    "weather_df = pd.concat(weather_dfs, ignore_index=True)\n",
    "\n",
    "# === Step 2: Clean Data by Removing Duplicates ===\n",
    "\n",
    "# Drop duplicate rows based on station name and coordinates (and related features)\n",
    "weather_df_clean = weather_df.drop_duplicates(\n",
    "    subset=['date_time','name', 'lat', 'lon', 'alt', 'cloud_cover_oktas', 'wind_speed_knot',\n",
    "            'wind_direction_degree', 'irradiance', 'relative_humidity_percent',\n",
    "            'air_temperature_c', 'rainfall_mm', 'weather_source_id', 'pressure_mbar',\n",
    "            'air_density_c', 'module_temp_c']\n",
    ").copy()\n",
    "\n",
    "# === Step 3: Prepare Data for Clustering ===\n",
    "\n",
    "# Extract latitude and longitude\n",
    "coordinates = weather_df_clean[['lat', 'lon']].values\n",
    "\n",
    "# === Step 4: Apply KMeans Clustering ===\n",
    "\n",
    "# Define number of clusters\n",
    "num_clusters = 10\n",
    "kmeans = KMeans(n_clusters=num_clusters, random_state=42)\n",
    "\n",
    "# Fit clustering model and assign cluster labels\n",
    "weather_df_clean['cluster'] = kmeans.fit_predict(coordinates)\n",
    "\n",
    "# === Step 5: Classify Waqas Power Station ===\n",
    "\n",
    "# Waqas power station coordinates\n",
    "waqas_lat, waqas_lon = 32.550777, 35.660027\n",
    "waqas_coords = np.array([[waqas_lat, waqas_lon]])\n",
    "\n",
    "# Predict Waqas cluster\n",
    "waqas_cluster = kmeans.predict(waqas_coords)[0]\n",
    "print(f\"\\nWaqas power station belongs to cluster: {waqas_cluster}\")\n",
    "\n",
    "# === Step 6: Filter Weather Stations in Same Cluster ===\n",
    "\n",
    "same_cluster_stations = weather_df_clean[weather_df_clean['cluster'] == waqas_cluster]\n",
    "\n",
    "# Display unique stations in same cluster\n",
    "unique_stations = same_cluster_stations['name'].unique()\n",
    "print(f\"\\nWeather stations in the same cluster as Waqas:\")\n",
    "print(unique_stations)\n",
    "\n",
    "print(f\"\\nTotal unique weather stations in cluster {waqas_cluster}: {len(unique_stations)}\")\n",
    "\n",
    "# === Step 7: Plot Weather Stations and Waqas Station ===\n",
    "\n",
    "plt.figure(figsize=(10, 6))\n",
    "\n",
    "# Plot weather stations colored by cluster\n",
    "scatter = plt.scatter(weather_df_clean['lon'], weather_df_clean['lat'],\n",
    "                      c=weather_df_clean['cluster'], cmap='viridis', label='Weather Stations', s=40)\n",
    "\n",
    "# Plot Waqas station\n",
    "plt.scatter(waqas_lon, waqas_lat, color='red', marker='X', s=100, label='Waqas Power Station')\n",
    "\n",
    "plt.xlabel('Longitude')\n",
    "plt.ylabel('Latitude')\n",
    "plt.title('Weather Stations Clustering & Waqas Power Station')\n",
    "plt.legend(loc='upper right')\n",
    "plt.colorbar(scatter, label='Cluster')\n",
    "\n",
    "plt.grid(True)\n",
    "plt.show()"
   ]
  },
  {
   "cell_type": "code",
   "execution_count": 358,
   "id": "4bea9b06-4a1d-4b01-9e43-a08d3678c823",
   "metadata": {},
   "outputs": [
    {
     "ename": "KeyboardInterrupt",
     "evalue": "",
     "output_type": "error",
     "traceback": [
      "\u001b[0;31m---------------------------------------------------------------------------\u001b[0m",
      "\u001b[0;31mKeyboardInterrupt\u001b[0m                         Traceback (most recent call last)",
      "Cell \u001b[0;32mIn[358], line 61\u001b[0m\n\u001b[1;32m     58\u001b[0m     \u001b[38;5;28;01mreturn\u001b[39;00m nearest_station\n\u001b[1;32m     60\u001b[0m \u001b[38;5;66;03m# Optional: Classify nearest station to Waqas\u001b[39;00m\n\u001b[0;32m---> 61\u001b[0m nearest_station \u001b[38;5;241m=\u001b[39m \u001b[43mclassify_nearest_station\u001b[49m\u001b[43m(\u001b[49m\u001b[43mwaqas_lat\u001b[49m\u001b[43m,\u001b[49m\u001b[43m \u001b[49m\u001b[43mwaqas_lon\u001b[49m\u001b[43m)\u001b[49m\n\u001b[1;32m     63\u001b[0m \u001b[38;5;66;03m# === Step 4: Display Classified Weather Zones ===\u001b[39;00m\n\u001b[1;32m     64\u001b[0m \u001b[38;5;28mprint\u001b[39m(weather_df[[\u001b[38;5;124m'\u001b[39m\u001b[38;5;124mname\u001b[39m\u001b[38;5;124m'\u001b[39m, \u001b[38;5;124m'\u001b[39m\u001b[38;5;124mlat\u001b[39m\u001b[38;5;124m'\u001b[39m, \u001b[38;5;124m'\u001b[39m\u001b[38;5;124mlon\u001b[39m\u001b[38;5;124m'\u001b[39m, \u001b[38;5;124m'\u001b[39m\u001b[38;5;124mweather_zone\u001b[39m\u001b[38;5;124m'\u001b[39m, \u001b[38;5;124m'\u001b[39m\u001b[38;5;124mdistance_to_waqas\u001b[39m\u001b[38;5;124m'\u001b[39m]])\n",
      "Cell \u001b[0;32mIn[358], line 53\u001b[0m, in \u001b[0;36mclassify_nearest_station\u001b[0;34m(lat, lon)\u001b[0m\n\u001b[1;32m     52\u001b[0m \u001b[38;5;28;01mdef\u001b[39;00m \u001b[38;5;21mclassify_nearest_station\u001b[39m(lat, lon):\n\u001b[0;32m---> 53\u001b[0m     weather_df[\u001b[38;5;124m'\u001b[39m\u001b[38;5;124mdistance_to_waqas\u001b[39m\u001b[38;5;124m'\u001b[39m] \u001b[38;5;241m=\u001b[39m \u001b[43mweather_df\u001b[49m\u001b[38;5;241;43m.\u001b[39;49m\u001b[43mapply\u001b[49m\u001b[43m(\u001b[49m\u001b[38;5;28;43;01mlambda\u001b[39;49;00m\u001b[43m \u001b[49m\u001b[43mrow\u001b[49m\u001b[43m:\u001b[49m\u001b[43m \u001b[49m\u001b[43mhaversine\u001b[49m\u001b[43m(\u001b[49m\u001b[43mlat\u001b[49m\u001b[43m,\u001b[49m\u001b[43m \u001b[49m\u001b[43mlon\u001b[49m\u001b[43m,\u001b[49m\u001b[43m \u001b[49m\u001b[43mrow\u001b[49m\u001b[43m[\u001b[49m\u001b[38;5;124;43m'\u001b[39;49m\u001b[38;5;124;43mlat\u001b[39;49m\u001b[38;5;124;43m'\u001b[39;49m\u001b[43m]\u001b[49m\u001b[43m,\u001b[49m\u001b[43m \u001b[49m\u001b[43mrow\u001b[49m\u001b[43m[\u001b[49m\u001b[38;5;124;43m'\u001b[39;49m\u001b[38;5;124;43mlon\u001b[39;49m\u001b[38;5;124;43m'\u001b[39;49m\u001b[43m]\u001b[49m\u001b[43m)\u001b[49m\u001b[43m,\u001b[49m\u001b[43m \u001b[49m\u001b[43maxis\u001b[49m\u001b[38;5;241;43m=\u001b[39;49m\u001b[38;5;241;43m1\u001b[39;49m\u001b[43m)\u001b[49m\n\u001b[1;32m     55\u001b[0m     \u001b[38;5;66;03m# Find the nearest station\u001b[39;00m\n\u001b[1;32m     56\u001b[0m     nearest_station \u001b[38;5;241m=\u001b[39m weather_df\u001b[38;5;241m.\u001b[39mloc[weather_df[\u001b[38;5;124m'\u001b[39m\u001b[38;5;124mdistance_to_waqas\u001b[39m\u001b[38;5;124m'\u001b[39m]\u001b[38;5;241m.\u001b[39midxmin()]\n",
      "File \u001b[0;32m/usr/local/Caskroom/miniconda/base/lib/python3.12/site-packages/pandas/core/frame.py:10374\u001b[0m, in \u001b[0;36mDataFrame.apply\u001b[0;34m(self, func, axis, raw, result_type, args, by_row, engine, engine_kwargs, **kwargs)\u001b[0m\n\u001b[1;32m  10360\u001b[0m \u001b[38;5;28;01mfrom\u001b[39;00m \u001b[38;5;21;01mpandas\u001b[39;00m\u001b[38;5;21;01m.\u001b[39;00m\u001b[38;5;21;01mcore\u001b[39;00m\u001b[38;5;21;01m.\u001b[39;00m\u001b[38;5;21;01mapply\u001b[39;00m \u001b[38;5;28;01mimport\u001b[39;00m frame_apply\n\u001b[1;32m  10362\u001b[0m op \u001b[38;5;241m=\u001b[39m frame_apply(\n\u001b[1;32m  10363\u001b[0m     \u001b[38;5;28mself\u001b[39m,\n\u001b[1;32m  10364\u001b[0m     func\u001b[38;5;241m=\u001b[39mfunc,\n\u001b[0;32m   (...)\u001b[0m\n\u001b[1;32m  10372\u001b[0m     kwargs\u001b[38;5;241m=\u001b[39mkwargs,\n\u001b[1;32m  10373\u001b[0m )\n\u001b[0;32m> 10374\u001b[0m \u001b[38;5;28;01mreturn\u001b[39;00m \u001b[43mop\u001b[49m\u001b[38;5;241;43m.\u001b[39;49m\u001b[43mapply\u001b[49m\u001b[43m(\u001b[49m\u001b[43m)\u001b[49m\u001b[38;5;241m.\u001b[39m__finalize__(\u001b[38;5;28mself\u001b[39m, method\u001b[38;5;241m=\u001b[39m\u001b[38;5;124m\"\u001b[39m\u001b[38;5;124mapply\u001b[39m\u001b[38;5;124m\"\u001b[39m)\n",
      "File \u001b[0;32m/usr/local/Caskroom/miniconda/base/lib/python3.12/site-packages/pandas/core/apply.py:916\u001b[0m, in \u001b[0;36mFrameApply.apply\u001b[0;34m(self)\u001b[0m\n\u001b[1;32m    913\u001b[0m \u001b[38;5;28;01melif\u001b[39;00m \u001b[38;5;28mself\u001b[39m\u001b[38;5;241m.\u001b[39mraw:\n\u001b[1;32m    914\u001b[0m     \u001b[38;5;28;01mreturn\u001b[39;00m \u001b[38;5;28mself\u001b[39m\u001b[38;5;241m.\u001b[39mapply_raw(engine\u001b[38;5;241m=\u001b[39m\u001b[38;5;28mself\u001b[39m\u001b[38;5;241m.\u001b[39mengine, engine_kwargs\u001b[38;5;241m=\u001b[39m\u001b[38;5;28mself\u001b[39m\u001b[38;5;241m.\u001b[39mengine_kwargs)\n\u001b[0;32m--> 916\u001b[0m \u001b[38;5;28;01mreturn\u001b[39;00m \u001b[38;5;28;43mself\u001b[39;49m\u001b[38;5;241;43m.\u001b[39;49m\u001b[43mapply_standard\u001b[49m\u001b[43m(\u001b[49m\u001b[43m)\u001b[49m\n",
      "File \u001b[0;32m/usr/local/Caskroom/miniconda/base/lib/python3.12/site-packages/pandas/core/apply.py:1063\u001b[0m, in \u001b[0;36mFrameApply.apply_standard\u001b[0;34m(self)\u001b[0m\n\u001b[1;32m   1061\u001b[0m \u001b[38;5;28;01mdef\u001b[39;00m \u001b[38;5;21mapply_standard\u001b[39m(\u001b[38;5;28mself\u001b[39m):\n\u001b[1;32m   1062\u001b[0m     \u001b[38;5;28;01mif\u001b[39;00m \u001b[38;5;28mself\u001b[39m\u001b[38;5;241m.\u001b[39mengine \u001b[38;5;241m==\u001b[39m \u001b[38;5;124m\"\u001b[39m\u001b[38;5;124mpython\u001b[39m\u001b[38;5;124m\"\u001b[39m:\n\u001b[0;32m-> 1063\u001b[0m         results, res_index \u001b[38;5;241m=\u001b[39m \u001b[38;5;28;43mself\u001b[39;49m\u001b[38;5;241;43m.\u001b[39;49m\u001b[43mapply_series_generator\u001b[49m\u001b[43m(\u001b[49m\u001b[43m)\u001b[49m\n\u001b[1;32m   1064\u001b[0m     \u001b[38;5;28;01melse\u001b[39;00m:\n\u001b[1;32m   1065\u001b[0m         results, res_index \u001b[38;5;241m=\u001b[39m \u001b[38;5;28mself\u001b[39m\u001b[38;5;241m.\u001b[39mapply_series_numba()\n",
      "File \u001b[0;32m/usr/local/Caskroom/miniconda/base/lib/python3.12/site-packages/pandas/core/apply.py:1081\u001b[0m, in \u001b[0;36mFrameApply.apply_series_generator\u001b[0;34m(self)\u001b[0m\n\u001b[1;32m   1078\u001b[0m \u001b[38;5;28;01mwith\u001b[39;00m option_context(\u001b[38;5;124m\"\u001b[39m\u001b[38;5;124mmode.chained_assignment\u001b[39m\u001b[38;5;124m\"\u001b[39m, \u001b[38;5;28;01mNone\u001b[39;00m):\n\u001b[1;32m   1079\u001b[0m     \u001b[38;5;28;01mfor\u001b[39;00m i, v \u001b[38;5;129;01min\u001b[39;00m \u001b[38;5;28menumerate\u001b[39m(series_gen):\n\u001b[1;32m   1080\u001b[0m         \u001b[38;5;66;03m# ignore SettingWithCopy here in case the user mutates\u001b[39;00m\n\u001b[0;32m-> 1081\u001b[0m         results[i] \u001b[38;5;241m=\u001b[39m \u001b[38;5;28;43mself\u001b[39;49m\u001b[38;5;241;43m.\u001b[39;49m\u001b[43mfunc\u001b[49m\u001b[43m(\u001b[49m\u001b[43mv\u001b[49m\u001b[43m,\u001b[49m\u001b[43m \u001b[49m\u001b[38;5;241;43m*\u001b[39;49m\u001b[38;5;28;43mself\u001b[39;49m\u001b[38;5;241;43m.\u001b[39;49m\u001b[43margs\u001b[49m\u001b[43m,\u001b[49m\u001b[43m \u001b[49m\u001b[38;5;241;43m*\u001b[39;49m\u001b[38;5;241;43m*\u001b[39;49m\u001b[38;5;28;43mself\u001b[39;49m\u001b[38;5;241;43m.\u001b[39;49m\u001b[43mkwargs\u001b[49m\u001b[43m)\u001b[49m\n\u001b[1;32m   1082\u001b[0m         \u001b[38;5;28;01mif\u001b[39;00m \u001b[38;5;28misinstance\u001b[39m(results[i], ABCSeries):\n\u001b[1;32m   1083\u001b[0m             \u001b[38;5;66;03m# If we have a view on v, we need to make a copy because\u001b[39;00m\n\u001b[1;32m   1084\u001b[0m             \u001b[38;5;66;03m#  series_generator will swap out the underlying data\u001b[39;00m\n\u001b[1;32m   1085\u001b[0m             results[i] \u001b[38;5;241m=\u001b[39m results[i]\u001b[38;5;241m.\u001b[39mcopy(deep\u001b[38;5;241m=\u001b[39m\u001b[38;5;28;01mFalse\u001b[39;00m)\n",
      "Cell \u001b[0;32mIn[358], line 53\u001b[0m, in \u001b[0;36mclassify_nearest_station.<locals>.<lambda>\u001b[0;34m(row)\u001b[0m\n\u001b[1;32m     52\u001b[0m \u001b[38;5;28;01mdef\u001b[39;00m \u001b[38;5;21mclassify_nearest_station\u001b[39m(lat, lon):\n\u001b[0;32m---> 53\u001b[0m     weather_df[\u001b[38;5;124m'\u001b[39m\u001b[38;5;124mdistance_to_waqas\u001b[39m\u001b[38;5;124m'\u001b[39m] \u001b[38;5;241m=\u001b[39m weather_df\u001b[38;5;241m.\u001b[39mapply(\u001b[38;5;28;01mlambda\u001b[39;00m row: \u001b[43mhaversine\u001b[49m\u001b[43m(\u001b[49m\u001b[43mlat\u001b[49m\u001b[43m,\u001b[49m\u001b[43m \u001b[49m\u001b[43mlon\u001b[49m\u001b[43m,\u001b[49m\u001b[43m \u001b[49m\u001b[43mrow\u001b[49m\u001b[43m[\u001b[49m\u001b[38;5;124;43m'\u001b[39;49m\u001b[38;5;124;43mlat\u001b[39;49m\u001b[38;5;124;43m'\u001b[39;49m\u001b[43m]\u001b[49m\u001b[43m,\u001b[49m\u001b[43m \u001b[49m\u001b[43mrow\u001b[49m\u001b[43m[\u001b[49m\u001b[38;5;124;43m'\u001b[39;49m\u001b[38;5;124;43mlon\u001b[39;49m\u001b[38;5;124;43m'\u001b[39;49m\u001b[43m]\u001b[49m\u001b[43m)\u001b[49m, axis\u001b[38;5;241m=\u001b[39m\u001b[38;5;241m1\u001b[39m)\n\u001b[1;32m     55\u001b[0m     \u001b[38;5;66;03m# Find the nearest station\u001b[39;00m\n\u001b[1;32m     56\u001b[0m     nearest_station \u001b[38;5;241m=\u001b[39m weather_df\u001b[38;5;241m.\u001b[39mloc[weather_df[\u001b[38;5;124m'\u001b[39m\u001b[38;5;124mdistance_to_waqas\u001b[39m\u001b[38;5;124m'\u001b[39m]\u001b[38;5;241m.\u001b[39midxmin()]\n",
      "Cell \u001b[0;32mIn[358], line 47\u001b[0m, in \u001b[0;36mhaversine\u001b[0;34m(lat1, lon1, lat2, lon2)\u001b[0m\n\u001b[1;32m     45\u001b[0m dlon \u001b[38;5;241m=\u001b[39m lon2 \u001b[38;5;241m-\u001b[39m lon1\n\u001b[1;32m     46\u001b[0m a \u001b[38;5;241m=\u001b[39m sin(dlat \u001b[38;5;241m/\u001b[39m \u001b[38;5;241m2\u001b[39m)\u001b[38;5;241m*\u001b[39m\u001b[38;5;241m*\u001b[39m\u001b[38;5;241m2\u001b[39m \u001b[38;5;241m+\u001b[39m cos(lat1) \u001b[38;5;241m*\u001b[39m cos(lat2) \u001b[38;5;241m*\u001b[39m sin(dlon \u001b[38;5;241m/\u001b[39m \u001b[38;5;241m2\u001b[39m)\u001b[38;5;241m*\u001b[39m\u001b[38;5;241m*\u001b[39m\u001b[38;5;241m2\u001b[39m\n\u001b[0;32m---> 47\u001b[0m c \u001b[38;5;241m=\u001b[39m \u001b[38;5;241m2\u001b[39m \u001b[38;5;241m*\u001b[39m \u001b[43matan2\u001b[49m\u001b[43m(\u001b[49m\u001b[43msqrt\u001b[49m\u001b[43m(\u001b[49m\u001b[43ma\u001b[49m\u001b[43m)\u001b[49m\u001b[43m,\u001b[49m\u001b[43m \u001b[49m\u001b[43msqrt\u001b[49m\u001b[43m(\u001b[49m\u001b[38;5;241;43m1\u001b[39;49m\u001b[43m \u001b[49m\u001b[38;5;241;43m-\u001b[39;49m\u001b[43m \u001b[49m\u001b[43ma\u001b[49m\u001b[43m)\u001b[49m\u001b[43m)\u001b[49m\n\u001b[1;32m     48\u001b[0m R \u001b[38;5;241m=\u001b[39m \u001b[38;5;241m6371\u001b[39m  \u001b[38;5;66;03m# Earth radius in km\u001b[39;00m\n\u001b[1;32m     49\u001b[0m \u001b[38;5;28;01mreturn\u001b[39;00m R \u001b[38;5;241m*\u001b[39m c\n",
      "\u001b[0;31mKeyboardInterrupt\u001b[0m: "
     ]
    }
   ],
   "source": [
    "import pandas as pd\n",
    "import numpy as np\n",
    "from math import radians, sin, cos, sqrt, atan2\n",
    "\n",
    "# === Step 1: Read Weather Data ===\n",
    "\n",
    "# === Step 2: Define Weather Zones Based on Multiple Features ===\n",
    "def classify_weather_zone(row):\n",
    "    temp = row['air_temperature_c']\n",
    "    humidity = row['relative_humidity_percent']\n",
    "    wind_speed = row['wind_speed_knot']\n",
    "    rainfall = row['rainfall_mm']\n",
    "    \n",
    "    # Desert Zone: High temp, low humidity, low wind speed, minimal rainfall\n",
    "    if temp > 30 and humidity < 40 and wind_speed < 10 and rainfall < 5:\n",
    "        return 'Desert'\n",
    "    \n",
    "    # Highland Zone: Moderate temp, moderate-high humidity, moderate wind speed, moderate rainfall\n",
    "    elif 20 <= temp <= 30 and 40 <= humidity <= 70 and 10 <= wind_speed <= 20 and 5 <= rainfall <= 20:\n",
    "        return 'Highland'\n",
    "    \n",
    "    # Coastal Zone: High temp, high humidity, moderate rainfall\n",
    "    elif temp > 25 and humidity > 70 and rainfall > 20:\n",
    "        return 'Coastal'\n",
    "    \n",
    "    # Mountain Zone: Low temp, high humidity, moderate rainfall\n",
    "    elif temp < 20 and humidity > 60 and rainfall > 10:\n",
    "        return 'Mountain'\n",
    "    \n",
    "    # Other: For stations that don't fit the above criteria\n",
    "    else:\n",
    "        return 'Other'\n",
    "\n",
    "# Apply the classification function to each weather station\n",
    "weather_df['weather_zone'] = weather_df.apply(classify_weather_zone, axis=1)\n",
    "\n",
    "# === Step 3: Calculate Distance to Waqas Station (Optional) ===\n",
    "# Waqas power station coordinates\n",
    "waqas_lat, waqas_lon = 32.550777, 35.660027\n",
    "\n",
    "# Haversine function to calculate distance between two lat/lon points\n",
    "def haversine(lat1, lon1, lat2, lon2):\n",
    "    lat1, lon1, lat2, lon2 = map(radians, [lat1, lon1, lat2, lon2])\n",
    "    dlat = lat2 - lat1\n",
    "    dlon = lon2 - lon1\n",
    "    a = sin(dlat / 2)**2 + cos(lat1) * cos(lat2) * sin(dlon / 2)**2\n",
    "    c = 2 * atan2(sqrt(a), sqrt(1 - a))\n",
    "    R = 6371  # Earth radius in km\n",
    "    return R * c  # Distance in km\n",
    "\n",
    "# Function to classify nearest weather stations based on proximity to Waqas\n",
    "def classify_nearest_station(lat, lon):\n",
    "    weather_df['distance_to_waqas'] = weather_df.apply(lambda row: haversine(lat, lon, row['lat'], row['lon']), axis=1)\n",
    "    \n",
    "    # Find the nearest station\n",
    "    nearest_station = weather_df.loc[weather_df['distance_to_waqas'].idxmin()]\n",
    "    print(f\"Nearest Station: {nearest_station['name']}, Weather Zone: {nearest_station['weather_zone']}, Distance: {nearest_station['distance_to_waqas']} km\")\n",
    "    return nearest_station\n",
    "\n",
    "# Optional: Classify nearest station to Waqas\n",
    "nearest_station = classify_nearest_station(waqas_lat, waqas_lon)\n",
    "\n",
    "# === Step 4: Display Classified Weather Zones ===\n",
    "print(weather_df[['name', 'lat', 'lon', 'weather_zone', 'distance_to_waqas']])\n",
    "\n",
    "# Save the classified weather data to a new CSV\n",
    "weather_df.to_csv(\"/path/to/your/classified_weather_data.csv\", index=False)\n"
   ]
  },
  {
   "cell_type": "code",
   "execution_count": null,
   "id": "de07a838-a1c6-4bb0-aeaa-2ef661ad50cf",
   "metadata": {},
   "outputs": [],
   "source": [
    "import pandas as pd\n",
    "\n",
    "\n",
    "# Ensure 'date_time' is in datetime format\n",
    "weather_df['date_time'] = pd.to_datetime(weather_df['date_time'])\n",
    "waqas_df['date_time'] = pd.to_datetime(waqas_df['date_time'])\n",
    "\n",
    "# 1. Filter weather_df for 'Baqura' station\n",
    "baqura_weather = weather_df[weather_df['name'] == 'Baqura']\n",
    "\n",
    "# 2. Align Time Ranges\n",
    "start_date = max(baqura_weather['date_time'].min(), waqas_df['date_time'].min())\n",
    "end_date = min(baqura_weather['date_time'].max(), waqas_df['date_time'].max())\n",
    "baqura_weather = baqura_weather[(baqura_weather['date_time'] >= start_date) & (baqura_weather['date_time'] <= end_date)]\n",
    "waqas_df = waqas_df[(waqas_df['date_time'] >= start_date) & (waqas_df['date_time'] <= end_date)]\n",
    "\n",
    "# 3. Resample Weather Data to 15-Minute Intervals\n",
    "baqura_weather.set_index('date_time', inplace=True)\n",
    "baqura_weather_resampled = baqura_weather.resample('15T').mean().reset_index()\n",
    "\n",
    "# 4. Merge Datasets on 'date_time'\n",
    "merged_df = pd.merge_asof(waqas_df, baqura_weather_resampled, on='date_time', direction='nearest')\n",
    "\n",
    "# Display the merged DataFrame\n",
    "print(merged_df.head())\n",
    "\n"
   ]
  },
  {
   "cell_type": "code",
   "execution_count": null,
   "id": "507027ac-1cd7-4f30-a99a-a8a539a82489",
   "metadata": {},
   "outputs": [],
   "source": [
    "print(weather_df.columns)\n"
   ]
  },
  {
   "cell_type": "code",
   "execution_count": null,
   "id": "d413625d-ef32-4110-bda7-a3bb49713e5c",
   "metadata": {},
   "outputs": [],
   "source": [
    "import pandas as pd\n",
    "import matplotlib.pyplot as plt\n",
    "import glob\n",
    "from scipy.spatial import cKDTree\n",
    "import numpy as np"
   ]
  },
  {
   "cell_type": "code",
   "execution_count": null,
   "id": "5d1a355d-8afa-4b91-aec6-d71082bf39ae",
   "metadata": {},
   "outputs": [],
   "source": [
    "import pandas as pd\n",
    "import glob\n",
    "\n",
    "# Define the directory path and match all .xlsx files\n",
    "file_path = \"/Users/computer/Downloads/Load/Load/data/feeders/*.xlsx\"\n",
    "\n",
    "# Use glob to find all Excel files in the specified directory\n",
    "excel_files = glob.glob(file_path)\n",
    "\n",
    "# Load all the Excel files into a list of DataFrames\n",
    "feeder_dfs = [pd.read_excel(file, engine='openpyxl') for file in excel_files]\n",
    "\n",
    "# Optionally, concatenate all DataFrames into one\n",
    "feeder_df = pd.concat(feeder_dfs, ignore_index=True)\n",
    "\n",
    "# Display the combined DataFrame\n",
    "print(feeder_df.head())\n",
    "\n"
   ]
  },
  {
   "cell_type": "code",
   "execution_count": null,
   "id": "7f4e69d0-8ae6-441b-8690-c688c7d0e78c",
   "metadata": {},
   "outputs": [],
   "source": [
    "import pandas as pd\n",
    "\n",
    "# Step 1: Fill missing values in the 'STATIONS' column\n",
    "feeder_df['STATIONS'] = feeder_df['STATIONS'].ffill()  # Fill NaNs with the last valid value\n",
    "\n",
    "# Step 2: Group by 'STATIONS' and sum 'INSTALLED CAPACITY PV (MW)' across all feeders\n",
    "station_capacity = feeder_df.groupby('STATIONS')['INSTALLED CAPACITY PV (MW)'].sum().reset_index()\n",
    "\n",
    "# Step 3: Create a new column that combines 'STATIONS' and the summed 'INSTALLED CAPACITY PV (MW)'\n",
    "station_capacity['name_power'] = station_capacity['STATIONS'].astype(str)\n",
    "\n",
    "# Step 4: Display the resulting DataFrame with the combined station names and total capacities\n",
    "print(station_capacity[['name_power', 'INSTALLED CAPACITY PV (MW)']])\n"
   ]
  },
  {
   "cell_type": "code",
   "execution_count": null,
   "id": "6cae1bcb-eecb-4d8c-b3e2-f6451af7810b",
   "metadata": {},
   "outputs": [],
   "source": [
    "# Specify the path to your CSV files\n",
    "combined_csv_path =''\n",
    "\n",
    "# Get all CSV file paths\n",
    "combined_csv_files = glob.glob(combined_csv_path)\n",
    "\n",
    "# Read and combine all files into one DataFrame\n",
    "combined_df = [pd.read_csv(file, parse_dates=['date_time']) for file in combined_csv_files ]\n",
    "\n",
    "# Merge dataframes of all processed files\n",
    "combined_df = pd.concat(combined_df, ignore_index=True)\n",
    "\n",
    "# Display the combined DataFrame\n",
    "print(combined_df)\n"
   ]
  },
  {
   "cell_type": "code",
   "execution_count": null,
   "id": "c7605766-3443-43ae-a479-4a15dec2b498",
   "metadata": {},
   "outputs": [],
   "source": [
    "import numpy as np\n",
    "import pandas as pd\n",
    "from sklearn.preprocessing import MinMaxScaler, StandardScaler, RobustScaler\n",
    "\n",
    "# List of features categorized based on the scaling method\n",
    "minmax_features = ['wind_direction_degree', 'irradiance_corrected', 'peak_effect', 'rainfall_mm_imputed']\n",
    "standard_features = ['normalized_time_distance', 'normalized_irradiance_distance', 'wind_speed_knot_imputed', \n",
    "                     'wind_direction_degree_imputed', 'relative_humidity_percent_imputed']\n",
    "robust_features = ['hour', 'day_of_year', 'day_of_week', 'month', 'irradiance', 'air_temperature_c', 'relative_humidity_percent']\n",
    "\n",
    "# Assume 'waqas_df' is the DataFrame containing your data\n",
    "\n",
    "# Create scalers\n",
    "minmax_scaler = MinMaxScaler()\n",
    "standard_scaler = StandardScaler()\n",
    "robust_scaler = RobustScaler()\n",
    "\n",
    "# Scale the different feature groups\n",
    "minmax_scaled = minmax_scaler.fit_transform(waqas_df[minmax_features])\n",
    "standard_scaled = standard_scaler.fit_transform(waqas_df[standard_features])\n",
    "robust_scaled = robust_scaler.fit_transform(waqas_df[robust_features])\n",
    "\n",
    "# Combine all the scaled features back into a single DataFrame\n",
    "scaled_df = pd.DataFrame(np.hstack([minmax_scaled, standard_scaled, robust_scaled]), \n",
    "                         columns=minmax_features + standard_features + robust_features)\n",
    "\n",
    "# 2. Define the target variable (assuming 'power' is the target)\n",
    "target = waqas_df['power'].values  # Convert the target to a numpy array\n",
    "\n",
    "# 3. Reshape the data for LSTM (samples, time steps, features)\n",
    "# For LSTM, you need the data to be in 3D: (samples, time steps, features)\n",
    "# Example: Reshaping with 1 time step for simplicity\n",
    "X = np.reshape(scaled_df.values, (scaled_df.shape[0], 1, scaled_df.shape[1]))\n",
    "\n",
    "# Now 'X' is in the format (samples, time steps, features)\n",
    "print(X.shape)  # Should print (number_of_samples, 1, number_of_features)\n",
    "\n",
    "# X is ready for LSTM input, and 'target' is your target variable\n"
   ]
  },
  {
   "cell_type": "code",
   "execution_count": null,
   "id": "f979c02e-50d8-42b5-b3c0-7636f78ea1bc",
   "metadata": {},
   "outputs": [],
   "source": []
  },
  {
   "cell_type": "code",
   "execution_count": null,
   "id": "9849eaf1-a528-4b6c-9b69-48f50b8e3b2c",
   "metadata": {},
   "outputs": [],
   "source": []
  },
  {
   "cell_type": "code",
   "execution_count": null,
   "id": "906e33bb-9437-4840-8e1a-7baf00e381d4",
   "metadata": {},
   "outputs": [],
   "source": []
  },
  {
   "cell_type": "code",
   "execution_count": null,
   "id": "5b8aa2b3-3199-4e5b-8024-e6089f7a52c4",
   "metadata": {},
   "outputs": [],
   "source": []
  },
  {
   "cell_type": "code",
   "execution_count": null,
   "id": "d1f2371b-c923-4c2f-b130-dd66a8b6299e",
   "metadata": {},
   "outputs": [],
   "source": []
  },
  {
   "cell_type": "code",
   "execution_count": null,
   "id": "af359eac-ca11-46c7-86f5-c29e32840100",
   "metadata": {},
   "outputs": [],
   "source": []
  },
  {
   "cell_type": "code",
   "execution_count": null,
   "id": "f6a7a82e-4de0-46f7-9b59-5c11411c7966",
   "metadata": {},
   "outputs": [],
   "source": []
  }
 ],
 "metadata": {
  "kernelspec": {
   "display_name": "Python [conda env:base]",
   "language": "python",
   "name": "conda-base-py"
  },
  "language_info": {
   "codemirror_mode": {
    "name": "ipython",
    "version": 3
   },
   "file_extension": ".py",
   "mimetype": "text/x-python",
   "name": "python",
   "nbconvert_exporter": "python",
   "pygments_lexer": "ipython3",
   "version": "3.12.8"
  }
 },
 "nbformat": 4,
 "nbformat_minor": 5
}
